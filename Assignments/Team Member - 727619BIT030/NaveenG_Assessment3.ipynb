{
 "cells": [
  {
   "cell_type": "markdown",
   "metadata": {
    "id": "fwU2iooz85jt"
   },
   "source": [
    "## Exercises\n",
    "\n",
    "Answer the questions or complete the tasks outlined in bold below, use the specific method described if applicable."
   ]
  },
  {
   "cell_type": "markdown",
   "metadata": {
    "id": "SzBQQ_ml85j1"
   },
   "source": [
    "** What is 12 to the power of 4?**"
   ]
  },
  {
   "cell_type": "code",
   "execution_count": 1,
   "metadata": {
    "colab": {
     "base_uri": "https://localhost:8080/"
    },
    "id": "UhvE4PBC85j3",
    "outputId": "4d52b926-f524-4d42-b80a-2120c521096c"
   },
   "outputs": [
    {
     "data": {
      "text/plain": [
       "20736"
      ]
     },
     "execution_count": 1,
     "metadata": {},
     "output_type": "execute_result"
    }
   ],
   "source": [
    "12**4"
   ]
  },
  {
   "cell_type": "markdown",
   "metadata": {
    "id": "ds8G9S8j85j6"
   },
   "source": [
    "** Split this string:**\n",
    "\n",
    "    s = \"Hey I am Naveen!\"\n",
    "    \n",
    "**into a list. **"
   ]
  },
  {
   "cell_type": "code",
   "execution_count": 2,
   "metadata": {
    "colab": {
     "base_uri": "https://localhost:8080/"
    },
    "id": "GD_Tls3H85j7",
    "outputId": "dcbb30c4-72e9-460a-869b-9df915818799"
   },
   "outputs": [
    {
     "name": "stdout",
     "output_type": "stream",
     "text": [
      "['Hey', 'I', 'am', 'Naveen!']\n"
     ]
    }
   ],
   "source": [
    "s = \"Hey I am Naveen!\"\n",
    "s = s.split(\" \")\n",
    "print(s)"
   ]
  },
  {
   "cell_type": "markdown",
   "metadata": {
    "id": "_bBNOu-785j9"
   },
   "source": [
    "** Given the variables:**\n",
    "\n",
    "    name = \"naveen\"\n",
    "    height = 180\n",
    "\n",
    "** Use .format() to print the following string: **\n",
    "\n",
    "    My name is naveen and my height is 180 cm."
   ]
  },
  {
   "cell_type": "code",
   "execution_count": 6,
   "metadata": {
    "colab": {
     "base_uri": "https://localhost:8080/"
    },
    "id": "2TrzmDcS85j-",
    "outputId": "3602abea-93f9-4023-a6c5-86c1ab0563da"
   },
   "outputs": [
    {
     "name": "stdout",
     "output_type": "stream",
     "text": [
      "My name is naveen and my height is 180 cm.\n"
     ]
    }
   ],
   "source": [
    "name = \"naveen\"\n",
    "height = 180\n",
    "print(\"My name is {} and my height is {} cm.\".format(name,height))"
   ]
  },
  {
   "cell_type": "markdown",
   "metadata": {
    "id": "QAKtN7Hh85kB"
   },
   "source": [
    "** Given this nested list, use indexing to grab the word \"world\" **"
   ]
  },
  {
   "cell_type": "code",
   "execution_count": 8,
   "metadata": {
    "id": "-7dzQDyK85kD"
   },
   "outputs": [],
   "source": [
    "arr = [1,2,[3,4],[5,[100,200,['world']],23,11],1,7]"
   ]
  },
  {
   "cell_type": "code",
   "execution_count": 9,
   "metadata": {
    "colab": {
     "base_uri": "https://localhost:8080/",
     "height": 36
    },
    "id": "6m5C0sTW85kE",
    "outputId": "a17733ef-08fd-4be0-9ef8-712470ea5291"
   },
   "outputs": [
    {
     "data": {
      "text/plain": [
       "'world'"
      ]
     },
     "execution_count": 9,
     "metadata": {},
     "output_type": "execute_result"
    }
   ],
   "source": [
    "arr[3][1][2][0]"
   ]
  },
  {
   "cell_type": "markdown",
   "metadata": {
    "id": "9Ma7M4a185kF"
   },
   "source": [
    "** Given this nest dictionary grab the word \"happy\". Be prepared, this will be annoying/Details **"
   ]
  },
  {
   "cell_type": "code",
   "execution_count": 10,
   "metadata": {
    "id": "vrYAxSYN85kG"
   },
   "outputs": [],
   "source": [
    "d = {'res':[1,2,3,{'Details':['Naveen','Coimbatore','IT',{'target':[1,2,3,'happy']}]}]}"
   ]
  },
  {
   "cell_type": "code",
   "execution_count": 11,
   "metadata": {
    "colab": {
     "base_uri": "https://localhost:8080/",
     "height": 36
    },
    "id": "FlILSdm485kH",
    "outputId": "0daf115a-b93d-45ab-ba46-fc322a75d2ca"
   },
   "outputs": [
    {
     "data": {
      "text/plain": [
       "'happy'"
      ]
     },
     "execution_count": 11,
     "metadata": {},
     "output_type": "execute_result"
    }
   ],
   "source": [
    "d[\"res\"][3][\"Details\"][3][\"target\"][3]\n"
   ]
  },
  {
   "cell_type": "markdown",
   "metadata": {
    "id": "FInV_FKB85kI"
   },
   "source": [
    "** What is the main difference between a tuple and a list? **"
   ]
  },
  {
   "cell_type": "code",
   "execution_count": 12,
   "metadata": {
    "colab": {
     "base_uri": "https://localhost:8080/"
    },
    "id": "_VBWf00q85kJ",
    "outputId": "d2984f0d-2e0f-496d-8435-0b1ed8e3f512"
   },
   "outputs": [
    {
     "name": "stdout",
     "output_type": "stream",
     "text": [
      "List and Tuple in Python are the classes of Python Data Structures. The list is dynamic, whereas the tuple has static characteristics. This means that lists can be modified whereas tuples cannot be modified, the tuple is faster than the list because of static in nature\n"
     ]
    }
   ],
   "source": [
    "print(\"List and Tuple in Python are the classes of Python Data Structures. The list is dynamic, whereas the tuple has static characteristics. This means that lists can be modified whereas tuples cannot be modified, the tuple is faster than the list because of static in nature\")"
   ]
  },
  {
   "cell_type": "markdown",
   "metadata": {
    "id": "zP-j0HZj85kK"
   },
   "source": [
    "** Create a function that grabs the email website domain from a string in the form: **\n",
    "\n",
    "    user@domain.com\n",
    "    \n",
    "**So for example, passing \"user@domain.com\" would return: domain.com**"
   ]
  },
  {
   "cell_type": "code",
   "execution_count": 13,
   "metadata": {
    "id": "unvEAwjk85kL"
   },
   "outputs": [],
   "source": [
    "def email(email):\n",
    "  return email.split(\"@\")[1]"
   ]
  },
  {
   "cell_type": "code",
   "execution_count": 15,
   "metadata": {
    "colab": {
     "base_uri": "https://localhost:8080/"
    },
    "id": "Gb9dspLC85kL",
    "outputId": "78475ac4-70ef-48f7-a630-ea235b015e21"
   },
   "outputs": [
    {
     "name": "stdout",
     "output_type": "stream",
     "text": [
      "mcet.in\n"
     ]
    }
   ],
   "source": [
    "email_str = \"naveenG08@mcet.in\"\n",
    "print(email(email_str))"
   ]
  },
  {
   "cell_type": "markdown",
   "metadata": {
    "id": "gYydb-y085kM"
   },
   "source": [
    "** Create a basic function that returns True if the word 'dog' is contained in the input string. Don't worry about edge cases like a punctuation being attached to the word dog, but do account for capitalization. **"
   ]
  },
  {
   "cell_type": "code",
   "execution_count": 16,
   "metadata": {
    "id": "Q4ldLGV785kM"
   },
   "outputs": [],
   "source": [
    "def word_found(word):\n",
    "  return True if \"place\" in str(word) else False\n",
    "  \n",
    "  "
   ]
  },
  {
   "cell_type": "code",
   "execution_count": 17,
   "metadata": {
    "colab": {
     "base_uri": "https://localhost:8080/"
    },
    "id": "EqH6b7yv85kN",
    "outputId": "6953f932-4097-4877-b813-99ee57be3c3e"
   },
   "outputs": [
    {
     "data": {
      "text/plain": [
       "True"
      ]
     },
     "execution_count": 17,
     "metadata": {},
     "output_type": "execute_result"
    }
   ],
   "source": [
    "String = \"For a long time he wandered in fear from place to place.\"\n",
    "word_found(String)"
   ]
  },
  {
   "cell_type": "markdown",
   "metadata": {
    "id": "AyHQFALC85kO"
   },
   "source": [
    "** Create a function that counts the number of times the word \"dog\" occurs in a string. Again ignore edge cases. **"
   ]
  },
  {
   "cell_type": "code",
   "execution_count": 18,
   "metadata": {
    "id": "6hdc169585kO"
   },
   "outputs": [],
   "source": [
    "def word_found_counts(word):\n",
    "  return word.count(\"place\")"
   ]
  },
  {
   "cell_type": "code",
   "execution_count": 20,
   "metadata": {
    "colab": {
     "base_uri": "https://localhost:8080/"
    },
    "id": "igzsvHb385kO",
    "outputId": "2a6b12cc-4134-4e8e-cd66-4c47e4e98fa8"
   },
   "outputs": [
    {
     "data": {
      "text/plain": [
       "2"
      ]
     },
     "execution_count": 20,
     "metadata": {},
     "output_type": "execute_result"
    }
   ],
   "source": [
    "String = \"For a long time he wandered in fear from place to place.\"\n",
    "word_found_counts(String)"
   ]
  },
  {
   "cell_type": "markdown",
   "metadata": {
    "id": "3n7jJt4k85kP"
   },
   "source": [
    "### Problem\n",
    "**A school has following rules for grading system:\n",
    "    a. Below 25 - F\n",
    "    b. 25 to 45 - E\n",
    "    c. 45 to 50 - D\n",
    "    d. 50 to 60 - C\n",
    "    e. 60 to 80 - B\n",
    "    f. Above 80 - A\n",
    "    Ask user to enter marks and print the corresponding grade.**"
   ]
  },
  {
   "cell_type": "code",
   "execution_count": 26,
   "metadata": {
    "id": "nvXMkvWk85kQ"
   },
   "outputs": [],
   "source": [
    "def grade(marks):\n",
    "    print(\"Grade : \",end=\"\")\n",
    "    if marks<25:\n",
    "      print(\"F\")\n",
    "    elif marks>=25 and marks<45:\n",
    "      print(\"E\")\n",
    "    elif marks>=45 and marks<50:\n",
    "      print(\"D\")\n",
    "    elif marks>=50 and marks<60:\n",
    "      print(\"C\")\n",
    "    elif marks>=60 and marks<80:\n",
    "      print(\"B\")\n",
    "    else:\n",
    "      print(\"A\")"
   ]
  },
  {
   "cell_type": "code",
   "execution_count": 25,
   "metadata": {
    "colab": {
     "base_uri": "https://localhost:8080/"
    },
    "id": "BU_UZcyk85kS",
    "outputId": "44032a4f-8ba5-4f49-fcd0-95a0f702167c"
   },
   "outputs": [
    {
     "name": "stdout",
     "output_type": "stream",
     "text": [
      "Grade :A\n"
     ]
    }
   ],
   "source": [
    "grade(81)"
   ]
  },
  {
   "cell_type": "code",
   "execution_count": 27,
   "metadata": {
    "colab": {
     "base_uri": "https://localhost:8080/"
    },
    "id": "p1AGJ7DM85kR",
    "outputId": "bc3634b0-0709-4e3e-f4b4-596d7f9cc324"
   },
   "outputs": [
    {
     "name": "stdout",
     "output_type": "stream",
     "text": [
      "Grade : C\n"
     ]
    }
   ],
   "source": [
    "grade(56)"
   ]
  },
  {
   "cell_type": "markdown",
   "metadata": {
    "id": "Tie4rC7_kAOC"
   },
   "source": [
    "Create an company list with basic salary package(at least 5 values for 5 company)  and using a for loop retreive each company salary package and calculate total package. "
   ]
  },
  {
   "cell_type": "code",
   "execution_count": 30,
   "metadata": {
    "colab": {
     "base_uri": "https://localhost:8080/"
    },
    "id": "R5-CdXSKjacN",
    "outputId": "6e901040-e8a0-41fc-8ddb-ed8ac2ef2a79"
   },
   "outputs": [
    {
     "name": "stdout",
     "output_type": "stream",
     "text": [
      "Total package:  3100000\n"
     ]
    }
   ],
   "source": [
    "company = [[\"Zoho\",800000],[\"Soliton\",700000],[\"Virtusa\",550000],[\"Heaxware\",600000],[\"Vuram\",450000]]\n",
    "package_total = 0\n",
    "for i in company:\n",
    "  \n",
    "  package_total += i[1]\n",
    "  \n",
    "print(\"Total package: \",package_total)\n",
    "\n"
   ]
  },
  {
   "cell_type": "markdown",
   "metadata": {
    "id": "-L1aiFqRkF5s"
   },
   "source": [
    "Create two dictionaries in Python:\n",
    "\n",
    "First one to contain fields as Name,  Location,  Basicpay\n",
    "\n",
    "Second dictionary to contain fields as Company,  Team_id.\n",
    "\n",
    "Combine both dictionaries. "
   ]
  },
  {
   "cell_type": "code",
   "execution_count": 31,
   "metadata": {
    "colab": {
     "base_uri": "https://localhost:8080/"
    },
    "id": "8ugVoEe0kOsk",
    "outputId": "fc36afe1-e91c-4047-d5eb-280914b84e82"
   },
   "outputs": [
    {
     "name": "stdout",
     "output_type": "stream",
     "text": [
      "{'Name': 'Naveen', 'Location': 'Coimbatore', 'Basicpay': 600000.0, 'Company': 'Zoho Corporation', 'Team_id': 1401}\n"
     ]
    }
   ],
   "source": [
    "basic_details = {\n",
    "    \"Name\" : \"Naveen\",\n",
    "    \"Location\": \"Coimbatore\",\n",
    "    \"Basicpay\" : 600000.00\n",
    "}\n",
    "\n",
    "comapany_details = {\n",
    "    \"Company\" : \"Zoho Corporation\",\n",
    "    \"Team_id\" : 1401\n",
    "}\n",
    "\n",
    "\n",
    "combine = {\n",
    "    \"Name\" : basic_details[\"Name\"],\n",
    "    \"Location\": basic_details[\"Location\"],\n",
    "    \"Basicpay\" : basic_details[\"Basicpay\"],\n",
    "    \"Company\" : comapany_details[\"Company\"],\n",
    "    \"Team_id\" : comapany_details[\"Team_id\"]\n",
    "}\n",
    "\n",
    "print(combine)"
   ]
  },
  {
   "cell_type": "code",
   "execution_count": null,
   "metadata": {},
   "outputs": [],
   "source": []
  }
 ],
 "metadata": {
  "colab": {
   "collapsed_sections": [],
   "provenance": []
  },
  "kernelspec": {
   "display_name": "Python 3",
   "language": "python",
   "name": "python3"
  },
  "language_info": {
   "codemirror_mode": {
    "name": "ipython",
    "version": 3
   },
   "file_extension": ".py",
   "mimetype": "text/x-python",
   "name": "python",
   "nbconvert_exporter": "python",
   "pygments_lexer": "ipython3",
   "version": "3.7.3"
  }
 },
 "nbformat": 4,
 "nbformat_minor": 1
}

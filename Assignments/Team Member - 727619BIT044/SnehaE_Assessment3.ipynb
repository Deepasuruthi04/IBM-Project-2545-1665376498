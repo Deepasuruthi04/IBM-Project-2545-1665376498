{
 "cells": [
  {
   "cell_type": "markdown",
   "metadata": {
    "id": "fwU2iooz85jt"
   },
   "source": [
    "## Exercises\n",
    "\n",
    "Answer the questions or complete the tasks outlined in bold below, use the specific method described if applicable."
   ]
  },
  {
   "cell_type": "markdown",
   "metadata": {
    "id": "SzBQQ_ml85j1"
   },
   "source": [
    "** What is 7 to the power of 4?**"
   ]
  },
  {
   "cell_type": "code",
   "execution_count": null,
   "metadata": {
    "colab": {
     "base_uri": "https://localhost:8080/"
    },
    "id": "UhvE4PBC85j3",
    "outputId": "4d52b926-f524-4d42-b80a-2120c521096c"
   },
   "outputs": [
    {
     "data": {
      "text/plain": [
       "2401"
      ]
     },
     "execution_count": 1,
     "metadata": {},
     "output_type": "execute_result"
    }
   ],
   "source": [
    "7**4"
   ]
  },
  {
   "cell_type": "markdown",
   "metadata": {
    "id": "ds8G9S8j85j6"
   },
   "source": [
    "** Split this string:**\n",
    "\n",
    "    s = \"Hi there Sneha!\"\n",
    "    \n",
    "**into a list. **"
   ]
  },
  {
   "cell_type": "code",
   "execution_count": 1,
   "metadata": {
    "colab": {
     "base_uri": "https://localhost:8080/"
    },
    "id": "GD_Tls3H85j7",
    "outputId": "dcbb30c4-72e9-460a-869b-9df915818799"
   },
   "outputs": [
    {
     "name": "stdout",
     "output_type": "stream",
     "text": [
      "['Hi', 'there', 'Sneha!']\n"
     ]
    }
   ],
   "source": [
    "s = \"Hi there Sneha!\"\n",
    "s = s.split(\" \")\n",
    "print(s)"
   ]
  },
  {
   "cell_type": "markdown",
   "metadata": {
    "id": "_bBNOu-785j9"
   },
   "source": [
    "** Given the variables:**\n",
    "\n",
    "    planet = \"Earth\"\n",
    "    diameter = 12742\n",
    "\n",
    "** Use .format() to print the following string: **\n",
    "\n",
    "    The diameter of Earth is 12742 kilometers."
   ]
  },
  {
   "cell_type": "code",
   "execution_count": null,
   "metadata": {
    "colab": {
     "base_uri": "https://localhost:8080/"
    },
    "collapsed": true,
    "id": "2TrzmDcS85j-",
    "outputId": "3602abea-93f9-4023-a6c5-86c1ab0563da"
   },
   "outputs": [
    {
     "name": "stdout",
     "output_type": "stream",
     "text": [
      "The diameter of Earth is 12742 kilometers.\n"
     ]
    }
   ],
   "source": [
    "planet = \"Earth\"\n",
    "diameter = 12742\n",
    "print(\"The diameter of {} is {} kilometers.\".format(planet,diameter))"
   ]
  },
  {
   "cell_type": "markdown",
   "metadata": {
    "id": "QAKtN7Hh85kB"
   },
   "source": [
    "** Given this nested list, use indexing to grab the word \"hello\" **"
   ]
  },
  {
   "cell_type": "code",
   "execution_count": null,
   "metadata": {
    "collapsed": true,
    "id": "-7dzQDyK85kD"
   },
   "outputs": [],
   "source": [
    "lst = [1,2,[3,4],[5,[100,200,['hello']],23,11],1,7]"
   ]
  },
  {
   "cell_type": "code",
   "execution_count": null,
   "metadata": {
    "colab": {
     "base_uri": "https://localhost:8080/",
     "height": 36
    },
    "id": "6m5C0sTW85kE",
    "outputId": "a17733ef-08fd-4be0-9ef8-712470ea5291"
   },
   "outputs": [
    {
     "data": {
      "application/vnd.google.colaboratory.intrinsic+json": {
       "type": "string"
      },
      "text/plain": [
       "'hello'"
      ]
     },
     "execution_count": 4,
     "metadata": {},
     "output_type": "execute_result"
    }
   ],
   "source": [
    "lst[3][1][2][0]"
   ]
  },
  {
   "cell_type": "raw",
   "metadata": {
    "id": "9Ma7M4a185kF"
   },
   "source": [
    "** Given this nest dictionary grab the word \"world\". Be prepared, this will be annoying/tricky **"
   ]
  },
  {
   "cell_type": "code",
   "execution_count": 2,
   "metadata": {
    "id": "vrYAxSYN85kG"
   },
   "outputs": [],
   "source": [
    "d = {'k1':[1,2,3,{'tricky':['oh','man','inception',{'target':[1,2,3,'world']}]}]}"
   ]
  },
  {
   "cell_type": "code",
   "execution_count": 3,
   "metadata": {
    "colab": {
     "base_uri": "https://localhost:8080/",
     "height": 36
    },
    "id": "FlILSdm485kH",
    "outputId": "0daf115a-b93d-45ab-ba46-fc322a75d2ca"
   },
   "outputs": [
    {
     "data": {
      "text/plain": [
       "'world'"
      ]
     },
     "execution_count": 3,
     "metadata": {},
     "output_type": "execute_result"
    }
   ],
   "source": [
    "d[\"k1\"][3][\"tricky\"][3][\"target\"][3]\n"
   ]
  },
  {
   "cell_type": "markdown",
   "metadata": {
    "id": "FInV_FKB85kI"
   },
   "source": [
    "** What is the main difference between a tuple and a list? **"
   ]
  },
  {
   "cell_type": "code",
   "execution_count": 4,
   "metadata": {
    "colab": {
     "base_uri": "https://localhost:8080/"
    },
    "id": "_VBWf00q85kJ",
    "outputId": "d2984f0d-2e0f-496d-8435-0b1ed8e3f512"
   },
   "outputs": [
    {
     "name": "stdout",
     "output_type": "stream",
     "text": [
      "List and Tuple in Python are the classes of Python Data Structures. The list is dynamic, whereas the tuple has static characteristics. This means that lists can be modified whereas tuples cannot be modified, the tuple is faster than the list because of static in nature\n"
     ]
    }
   ],
   "source": [
    "print(\"List and Tuple in Python are the classes of Python Data Structures. The list is dynamic, whereas the tuple has static characteristics. This means that lists can be modified whereas tuples cannot be modified, the tuple is faster than the list because of static in nature\")"
   ]
  },
  {
   "cell_type": "markdown",
   "metadata": {
    "id": "zP-j0HZj85kK"
   },
   "source": [
    "** Create a function that grabs the email website domain from a string in the form: **\n",
    "\n",
    "    user@domain.com\n",
    "    \n",
    "**So for example, passing \"user@domain.com\" would return: domain.com**"
   ]
  },
  {
   "cell_type": "code",
   "execution_count": 6,
   "metadata": {
    "id": "unvEAwjk85kL"
   },
   "outputs": [],
   "source": [
    "def email(email):\n",
    "  return email.split(\"@\")[1]"
   ]
  },
  {
   "cell_type": "code",
   "execution_count": 7,
   "metadata": {
    "colab": {
     "base_uri": "https://localhost:8080/"
    },
    "id": "Gb9dspLC85kL",
    "outputId": "78475ac4-70ef-48f7-a630-ea235b015e21"
   },
   "outputs": [
    {
     "name": "stdout",
     "output_type": "stream",
     "text": [
      "domain.com\n"
     ]
    }
   ],
   "source": [
    "email_var = \"snehaamuthes@domain.com\"\n",
    "print(email(email_var))"
   ]
  },
  {
   "cell_type": "markdown",
   "metadata": {
    "id": "gYydb-y085kM"
   },
   "source": [
    "** Create a basic function that returns True if the word 'the' is contained in the input string. Don't worry about the edge cases like a punctuation being attached to the word dog, but do account for capitalization. **"
   ]
  },
  {
   "cell_type": "code",
   "execution_count": 23,
   "metadata": {
    "id": "Q4ldLGV785kM"
   },
   "outputs": [],
   "source": [
    "def word_found(word):\n",
    "  return True if \"the\" in str(word) else False\n",
    "  \n",
    "  "
   ]
  },
  {
   "cell_type": "code",
   "execution_count": 24,
   "metadata": {
    "colab": {
     "base_uri": "https://localhost:8080/"
    },
    "id": "EqH6b7yv85kN",
    "outputId": "6953f932-4097-4877-b813-99ee57be3c3e"
   },
   "outputs": [
    {
     "data": {
      "text/plain": [
       "True"
      ]
     },
     "execution_count": 24,
     "metadata": {},
     "output_type": "execute_result"
    }
   ],
   "source": [
    "word = \"Don't worry about the edge cases like a punctuation being attached to the word dog, but do account for capitalization\"\n",
    "word_found(word)"
   ]
  },
  {
   "cell_type": "markdown",
   "metadata": {
    "id": "AyHQFALC85kO"
   },
   "source": [
    "** Create a function that counts the number of times the word \"the\" occurs in a string. Again ignore edge cases. **"
   ]
  },
  {
   "cell_type": "code",
   "execution_count": 25,
   "metadata": {
    "id": "6hdc169585kO"
   },
   "outputs": [],
   "source": [
    "def word_found_counts(word):\n",
    "  return word.count(\"the\")"
   ]
  },
  {
   "cell_type": "code",
   "execution_count": 26,
   "metadata": {
    "colab": {
     "base_uri": "https://localhost:8080/"
    },
    "id": "igzsvHb385kO",
    "outputId": "2a6b12cc-4134-4e8e-cd66-4c47e4e98fa8"
   },
   "outputs": [
    {
     "data": {
      "text/plain": [
       "2"
      ]
     },
     "execution_count": 26,
     "metadata": {},
     "output_type": "execute_result"
    }
   ],
   "source": [
    "word = \"Don't worry about the edge cases like a punctuation being attached to the word dog, but do account for capitalization dogs\"\n",
    "word_found_counts(word)"
   ]
  },
  {
   "cell_type": "markdown",
   "metadata": {
    "id": "3n7jJt4k85kP"
   },
   "source": [
    "### Problem\n",
    "**A student will not be allowed to sit in exam if his/her attendence is less than 75%.\n",
    "    Take following input from user\n",
    "    Number of classes held\n",
    "    Number of classes attended.\n",
    "    And print\n",
    "    percentage of class attended\n",
    "    Is student is allowed to sit in exam or not. **"
   ]
  },
  {
   "cell_type": "code",
   "execution_count": 27,
   "metadata": {
    "id": "nvXMkvWk85kQ"
   },
   "outputs": [],
   "source": [
    "def func(noh, noa):\n",
    "    atten = (noa/float(noh))*100\n",
    "    print(\"Attendence is\",atten)\n",
    "    if atten >= 75:\n",
    "      print(\"You are allowed to sit in exam\")\n",
    "    else:\n",
    "      print(\"Sorry, you are not allowed. Attend more classes from next time.\")"
   ]
  },
  {
   "cell_type": "code",
   "execution_count": 28,
   "metadata": {
    "colab": {
     "base_uri": "https://localhost:8080/"
    },
    "id": "BU_UZcyk85kS",
    "outputId": "44032a4f-8ba5-4f49-fcd0-95a0f702167c"
   },
   "outputs": [
    {
     "name": "stdout",
     "output_type": "stream",
     "text": [
      "Number of classes held\n",
      "Number of classes attended\n",
      "Attendence is 85.0\n",
      "You are allowed to sit in exam\n"
     ]
    }
   ],
   "source": [
    "print(\"Number of classes held\")\n",
    "noh = 20\n",
    "print(\"Number of classes attended\")\n",
    "noa = 17\n",
    "func(20,17)"
   ]
  },
  {
   "cell_type": "code",
   "execution_count": 29,
   "metadata": {
    "colab": {
     "base_uri": "https://localhost:8080/"
    },
    "id": "p1AGJ7DM85kR",
    "outputId": "bc3634b0-0709-4e3e-f4b4-596d7f9cc324"
   },
   "outputs": [
    {
     "name": "stdout",
     "output_type": "stream",
     "text": [
      "Number of classes held\n",
      "Number of classes attended\n",
      "Attendence is 50.0\n",
      "Sorry, you are not allowed. Attend more classes from next time.\n"
     ]
    }
   ],
   "source": [
    "print(\"Number of classes held\")\n",
    "noh = 20\n",
    "print(\"Number of classes attended\")\n",
    "noa = 10\n",
    "func(20,10)"
   ]
  },
  {
   "cell_type": "markdown",
   "metadata": {
    "id": "Tie4rC7_kAOC"
   },
   "source": [
    "Create an food list with basic costprice values(at least 5 values for 5 food items)  and using a for loop retreive each food costprice and calculate total amount. "
   ]
  },
  {
   "cell_type": "code",
   "execution_count": 30,
   "metadata": {
    "colab": {
     "base_uri": "https://localhost:8080/"
    },
    "id": "R5-CdXSKjacN",
    "outputId": "6e901040-e8a0-41fc-8ddb-ed8ac2ef2a79"
   },
   "outputs": [
    {
     "name": "stdout",
     "output_type": "stream",
     "text": [
      "total cost:  380\n"
     ]
    }
   ],
   "source": [
    "food = [[\"noodles\",100],[\"rice\",80],[\"pasta\",120],[\"puri\",50],[\"idly\",30]]\n",
    "total_amount = 0\n",
    "for i in food:\n",
    "  \n",
    "  total_amount += i[1]\n",
    "  \n",
    "print(\"total cost: \",total_amount)\n",
    "\n"
   ]
  },
  {
   "cell_type": "markdown",
   "metadata": {
    "id": "-L1aiFqRkF5s"
   },
   "source": [
    "Create two dictionaries in Python:\n",
    "\n",
    "First one to contain fields as Empid,  Empname,  Basicpay\n",
    "\n",
    "Second dictionary to contain fields as Company_name,  Team_id.\n",
    "\n",
    "Combine both dictionaries. "
   ]
  },
  {
   "cell_type": "code",
   "execution_count": 31,
   "metadata": {
    "colab": {
     "base_uri": "https://localhost:8080/"
    },
    "id": "8ugVoEe0kOsk",
    "outputId": "fc36afe1-e91c-4047-d5eb-280914b84e82"
   },
   "outputs": [
    {
     "name": "stdout",
     "output_type": "stream",
     "text": [
      "{'Empid': 1, 'Empname': 'Sneha', 'Basicpay': 200000.0, 'Company_name': 'NTT Data', 'Team_id': 1401}\n"
     ]
    }
   ],
   "source": [
    "basic_emp = {\n",
    "    \"Empid\" : 1,\n",
    "    \"Empname\": \"Sneha\",\n",
    "    \"Basicpay\" : 200000.00\n",
    "}\n",
    "\n",
    "company_details = {\n",
    "    \"Company_name\" : \"NTT Data\",\n",
    "    \"Team_id\" : 1401\n",
    "}\n",
    "\n",
    "\n",
    "combine = {\n",
    "    \"Empid\" : basic_emp[\"Empid\"],\n",
    "    \"Empname\": basic_emp[\"Empname\"],\n",
    "    \"Basicpay\" : basic_emp[\"Basicpay\"],\n",
    "    \"Company_name\" : company_details[\"Company_name\"],\n",
    "    \"Team_id\" : company_details[\"Team_id\"]\n",
    "}\n",
    "\n",
    "print(combine)"
   ]
  },
  {
   "cell_type": "code",
   "execution_count": null,
   "metadata": {},
   "outputs": [],
   "source": []
  }
 ],
 "metadata": {
  "colab": {
   "collapsed_sections": [],
   "provenance": []
  },
  "kernelspec": {
   "display_name": "Python 3",
   "language": "python",
   "name": "python3"
  },
  "language_info": {
   "codemirror_mode": {
    "name": "ipython",
    "version": 3
   },
   "file_extension": ".py",
   "mimetype": "text/x-python",
   "name": "python",
   "nbconvert_exporter": "python",
   "pygments_lexer": "ipython3",
   "version": "3.7.3"
  }
 },
 "nbformat": 4,
 "nbformat_minor": 1
}

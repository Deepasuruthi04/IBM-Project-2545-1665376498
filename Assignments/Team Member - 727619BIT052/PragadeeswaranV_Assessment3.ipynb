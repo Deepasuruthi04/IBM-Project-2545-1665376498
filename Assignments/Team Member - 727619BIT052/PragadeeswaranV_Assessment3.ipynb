{
 "cells": [
  {
   "cell_type": "markdown",
   "metadata": {
    "id": "fwU2iooz85jt"
   },
   "source": [
    "## Exercises\n",
    "\n",
    "Answer the questions or complete the tasks outlined in bold below, use the specific method described if applicable."
   ]
  },
  {
   "cell_type": "markdown",
   "metadata": {
    "id": "SzBQQ_ml85j1"
   },
   "source": [
    "** What is 38 to the power of 5?**"
   ]
  },
  {
   "cell_type": "code",
   "execution_count": 1,
   "metadata": {
    "colab": {
     "base_uri": "https://localhost:8080/"
    },
    "id": "UhvE4PBC85j3",
    "outputId": "4d52b926-f524-4d42-b80a-2120c521096c"
   },
   "outputs": [
    {
     "data": {
      "text/plain": [
       "79235168"
      ]
     },
     "execution_count": 1,
     "metadata": {},
     "output_type": "execute_result"
    }
   ],
   "source": [
    "38**5"
   ]
  },
  {
   "cell_type": "markdown",
   "metadata": {
    "id": "ds8G9S8j85j6"
   },
   "source": [
    "** Split this string:**\n",
    "\n",
    "    s = \"Good Morning Pragadees!\"\n",
    "    \n",
    "**into a list. **"
   ]
  },
  {
   "cell_type": "code",
   "execution_count": 2,
   "metadata": {
    "colab": {
     "base_uri": "https://localhost:8080/"
    },
    "id": "GD_Tls3H85j7",
    "outputId": "dcbb30c4-72e9-460a-869b-9df915818799"
   },
   "outputs": [
    {
     "name": "stdout",
     "output_type": "stream",
     "text": [
      "['Good', 'Morning', 'Pragadees!']\n"
     ]
    }
   ],
   "source": [
    "s = \"Good Morning Pragadees!\"\n",
    "s = s.split(\" \")\n",
    "print(s)"
   ]
  },
  {
   "cell_type": "markdown",
   "metadata": {
    "id": "_bBNOu-785j9"
   },
   "source": [
    "** Given the variables:**\n",
    "\n",
    "    emp_name = 'Leo Shein'\n",
    "    emp_age = 24\n",
    "    print(\"Name: %s Age: %d\"%(emp_name,emp_age))\n",
    "\n",
    "\n",
    "** Use .format() to print the following string: **\n",
    "\n",
    "    Name: Leo Shein Age: 24."
   ]
  },
  {
   "cell_type": "code",
   "execution_count": 7,
   "metadata": {
    "colab": {
     "base_uri": "https://localhost:8080/"
    },
    "id": "2TrzmDcS85j-",
    "outputId": "3602abea-93f9-4023-a6c5-86c1ab0563da"
   },
   "outputs": [
    {
     "name": "stdout",
     "output_type": "stream",
     "text": [
      "Name: Leo Shein Age: 24\n"
     ]
    }
   ],
   "source": [
    "emp_name = 'Leo Shein'\n",
    "emp_age = 24\n",
    "print(\"Name: %s Age: %d\"%(emp_name,emp_age))"
   ]
  },
  {
   "cell_type": "markdown",
   "metadata": {
    "id": "QAKtN7Hh85kB"
   },
   "source": [
    "** Given this nested list, use indexing to grab the word \"hello\" **"
   ]
  },
  {
   "cell_type": "code",
   "execution_count": 4,
   "metadata": {
    "id": "-7dzQDyK85kD"
   },
   "outputs": [],
   "source": [
    "lst = [1,2,[3,4],[5,[100,200,['Bonda']],23,11],1,7]"
   ]
  },
  {
   "cell_type": "code",
   "execution_count": 5,
   "metadata": {
    "colab": {
     "base_uri": "https://localhost:8080/",
     "height": 36
    },
    "id": "6m5C0sTW85kE",
    "outputId": "a17733ef-08fd-4be0-9ef8-712470ea5291"
   },
   "outputs": [
    {
     "data": {
      "text/plain": [
       "'Bonda'"
      ]
     },
     "execution_count": 5,
     "metadata": {},
     "output_type": "execute_result"
    }
   ],
   "source": [
    "lst[3][1][2][0]"
   ]
  },
  {
   "cell_type": "markdown",
   "metadata": {
    "id": "9Ma7M4a185kF"
   },
   "source": [
    "** Given this nest dictionary grab the word \"praga\". Be prepared, this will be annoying/Favourite **"
   ]
  },
  {
   "cell_type": "code",
   "execution_count": 8,
   "metadata": {
    "id": "vrYAxSYN85kG"
   },
   "outputs": [],
   "source": [
    "d = {'k1':[1,2,3,{'Favourite':['I','like','Briyani',{'target':[1,2,3,'praga']}]}]}"
   ]
  },
  {
   "cell_type": "code",
   "execution_count": 10,
   "metadata": {
    "colab": {
     "base_uri": "https://localhost:8080/",
     "height": 36
    },
    "id": "FlILSdm485kH",
    "outputId": "0daf115a-b93d-45ab-ba46-fc322a75d2ca"
   },
   "outputs": [
    {
     "data": {
      "text/plain": [
       "'praga'"
      ]
     },
     "execution_count": 10,
     "metadata": {},
     "output_type": "execute_result"
    }
   ],
   "source": [
    "d[\"k1\"][3][\"Favourite\"][3][\"target\"][3]\n"
   ]
  },
  {
   "cell_type": "markdown",
   "metadata": {
    "id": "FInV_FKB85kI"
   },
   "source": [
    "** What is the main difference between a tuple and a list? **"
   ]
  },
  {
   "cell_type": "code",
   "execution_count": 11,
   "metadata": {
    "colab": {
     "base_uri": "https://localhost:8080/"
    },
    "id": "_VBWf00q85kJ",
    "outputId": "d2984f0d-2e0f-496d-8435-0b1ed8e3f512"
   },
   "outputs": [
    {
     "name": "stdout",
     "output_type": "stream",
     "text": [
      "List and Tuple in Python are the classes of Python Data Structures. The list is dynamic, whereas the tuple has static characteristics. This means that lists can be modified whereas tuples cannot be modified, the tuple is faster than the list because of static in nature\n"
     ]
    }
   ],
   "source": [
    "print(\"List and Tuple in Python are the classes of Python Data Structures. The list is dynamic, whereas the tuple has static characteristics. This means that lists can be modified whereas tuples cannot be modified, the tuple is faster than the list because of static in nature\")"
   ]
  },
  {
   "cell_type": "markdown",
   "metadata": {
    "id": "zP-j0HZj85kK"
   },
   "source": [
    "** Create a function that grabs the email website domain from a string in the form: **\n",
    "\n",
    "    user@domain.com\n",
    "    \n",
    "**So for example, passing \"user@domain.com\" would return: domain.com**"
   ]
  },
  {
   "cell_type": "code",
   "execution_count": 12,
   "metadata": {
    "id": "unvEAwjk85kL"
   },
   "outputs": [],
   "source": [
    "def email(email):\n",
    "  return email.split(\"@\")[1]"
   ]
  },
  {
   "cell_type": "code",
   "execution_count": 13,
   "metadata": {
    "colab": {
     "base_uri": "https://localhost:8080/"
    },
    "id": "Gb9dspLC85kL",
    "outputId": "78475ac4-70ef-48f7-a630-ea235b015e21"
   },
   "outputs": [
    {
     "name": "stdout",
     "output_type": "stream",
     "text": [
      "gmail.com\n"
     ]
    }
   ],
   "source": [
    "email_var = \"praga16@gmail.com\"\n",
    "print(email(email_var))"
   ]
  },
  {
   "cell_type": "markdown",
   "metadata": {
    "id": "gYydb-y085kM"
   },
   "source": [
    "** Create a basic function that returns True if the word 'games' is contained in the input string. Playing games are an essential part of education and development. Playing games builds an assertive attitude towards learning. **"
   ]
  },
  {
   "cell_type": "code",
   "execution_count": 14,
   "metadata": {
    "id": "Q4ldLGV785kM"
   },
   "outputs": [],
   "source": [
    "def word_found(word):\n",
    "  return True if \"games\" in str(word) else False\n",
    "  \n",
    "  "
   ]
  },
  {
   "cell_type": "code",
   "execution_count": 15,
   "metadata": {
    "colab": {
     "base_uri": "https://localhost:8080/"
    },
    "id": "EqH6b7yv85kN",
    "outputId": "6953f932-4097-4877-b813-99ee57be3c3e"
   },
   "outputs": [
    {
     "data": {
      "text/plain": [
       "True"
      ]
     },
     "execution_count": 15,
     "metadata": {},
     "output_type": "execute_result"
    }
   ],
   "source": [
    "word = \"Playing games are an essential part of education and development. Playing games builds an assertive attitude towards learning.\"\n",
    "word_found(word)"
   ]
  },
  {
   "cell_type": "markdown",
   "metadata": {
    "id": "AyHQFALC85kO"
   },
   "source": [
    "** Create a function that counts the number of times the word \"dog\" occurs in a string. Again ignore edge cases. **"
   ]
  },
  {
   "cell_type": "code",
   "execution_count": 17,
   "metadata": {
    "id": "6hdc169585kO"
   },
   "outputs": [],
   "source": [
    "def word_found_counts(word):\n",
    "  return word.count(\"games\")"
   ]
  },
  {
   "cell_type": "code",
   "execution_count": 18,
   "metadata": {
    "colab": {
     "base_uri": "https://localhost:8080/"
    },
    "id": "igzsvHb385kO",
    "outputId": "2a6b12cc-4134-4e8e-cd66-4c47e4e98fa8"
   },
   "outputs": [
    {
     "data": {
      "text/plain": [
       "2"
      ]
     },
     "execution_count": 18,
     "metadata": {},
     "output_type": "execute_result"
    }
   ],
   "source": [
    "word = \"Playing games are an essential part of education and development. Playing games builds an assertive attitude towards learning.\"\n",
    "word_found_counts(word)"
   ]
  },
  {
   "cell_type": "markdown",
   "metadata": {
    "id": "3n7jJt4k85kP"
   },
   "source": [
    "### Problem\n",
    "**Given a two number x and y \n",
    "to display \"x is greater than y\" if x>y or\n",
    "to display \"y is greater than x\" if x<y\n",
    "to display \"x is equal to y\" if x=y**"
   ]
  },
  {
   "cell_type": "code",
   "execution_count": 28,
   "metadata": {
    "id": "nvXMkvWk85kQ"
   },
   "outputs": [],
   "source": [
    "def func(x,y):\n",
    "    if x > y:\n",
    "        print(\"x is greater than y\")\n",
    "    elif x < y:\n",
    "        print(\"x is less than y\")\n",
    "    else:\n",
    "        print(\"x is equal to y\")\n"
   ]
  },
  {
   "cell_type": "code",
   "execution_count": 25,
   "metadata": {
    "colab": {
     "base_uri": "https://localhost:8080/"
    },
    "id": "BU_UZcyk85kS",
    "outputId": "44032a4f-8ba5-4f49-fcd0-95a0f702167c"
   },
   "outputs": [
    {
     "name": "stdout",
     "output_type": "stream",
     "text": [
      "x is less than y\n"
     ]
    }
   ],
   "source": [
    "x,y=10,20\n",
    "func(x,y)"
   ]
  },
  {
   "cell_type": "code",
   "execution_count": 26,
   "metadata": {},
   "outputs": [
    {
     "name": "stdout",
     "output_type": "stream",
     "text": [
      "x is equal to y\n"
     ]
    }
   ],
   "source": [
    "x,y=20,20\n",
    "func(x,y)"
   ]
  },
  {
   "cell_type": "code",
   "execution_count": 27,
   "metadata": {
    "colab": {
     "base_uri": "https://localhost:8080/"
    },
    "id": "p1AGJ7DM85kR",
    "outputId": "bc3634b0-0709-4e3e-f4b4-596d7f9cc324"
   },
   "outputs": [
    {
     "name": "stdout",
     "output_type": "stream",
     "text": [
      "x is greater than y\n"
     ]
    }
   ],
   "source": [
    "x,y=30,20\n",
    "func(x,y)"
   ]
  },
  {
   "cell_type": "markdown",
   "metadata": {
    "id": "Tie4rC7_kAOC"
   },
   "source": [
    "Create an bike list with basic costprice values(at least 5 values for 5 bike model)  and using a for loop retreive each bike costprice and calculate total amount. "
   ]
  },
  {
   "cell_type": "code",
   "execution_count": 29,
   "metadata": {
    "colab": {
     "base_uri": "https://localhost:8080/"
    },
    "id": "R5-CdXSKjacN",
    "outputId": "6e901040-e8a0-41fc-8ddb-ed8ac2ef2a79"
   },
   "outputs": [
    {
     "name": "stdout",
     "output_type": "stream",
     "text": [
      "715000\n"
     ]
    }
   ],
   "source": [
    "bike = [[\"Splender\",70000],[\"KTM\",160000],[\"R15\",185000],[\"RX100\",50000],[\"Himalayan\",250000]]\n",
    "amount = 0\n",
    "for i in bike:\n",
    "  \n",
    "  amount += i[1]\n",
    "  \n",
    "print(amount)\n",
    "\n"
   ]
  },
  {
   "cell_type": "markdown",
   "metadata": {
    "id": "-L1aiFqRkF5s"
   },
   "source": [
    "Create two dictionaries in Python:\n",
    "\n",
    "First one to contain fields as Name,  Number,  Gender\n",
    "\n",
    "Second dictionary to contain fields as food,  Snacks.\n",
    "\n",
    "Combine both dictionaries. "
   ]
  },
  {
   "cell_type": "code",
   "execution_count": 1,
   "metadata": {
    "colab": {
     "base_uri": "https://localhost:8080/"
    },
    "id": "8ugVoEe0kOsk",
    "outputId": "fc36afe1-e91c-4047-d5eb-280914b84e82"
   },
   "outputs": [
    {
     "name": "stdout",
     "output_type": "stream",
     "text": [
      "{'Name': 'Pragadeeswaran', 'Number': 8248787647, 'Gender': 'Male', 'Food': 'Briyani', 'Snacks': 'Bonda'}\n"
     ]
    }
   ],
   "source": [
    "basic_details = {\n",
    "    \"Name\" : \"Pragadeeswaran\",\n",
    "    \"Number\": 8248787647,\n",
    "    \"Gender\" : \"Male\"\n",
    "}\n",
    "\n",
    "favourites = {\n",
    "    \"Food\" : \"Briyani\",\n",
    "    \"Snacks\" : \"Bonda\",\n",
    "}\n",
    "\n",
    "\n",
    "combine = {\n",
    "    \"Name\" : basic_details[\"Name\"],\n",
    "    \"Number\": basic_details[\"Number\"],\n",
    "    \"Gender\" : basic_details[\"Gender\"],\n",
    "    \"Food\" : favourites[\"Food\"],\n",
    "    \"Snacks\" : favourites[\"Snacks\"]\n",
    "}\n",
    "\n",
    "print(combine)"
   ]
  },
  {
   "cell_type": "code",
   "execution_count": null,
   "metadata": {},
   "outputs": [],
   "source": []
  }
 ],
 "metadata": {
  "colab": {
   "collapsed_sections": [],
   "provenance": []
  },
  "kernelspec": {
   "display_name": "Python 3",
   "language": "python",
   "name": "python3"
  },
  "language_info": {
   "codemirror_mode": {
    "name": "ipython",
    "version": 3
   },
   "file_extension": ".py",
   "mimetype": "text/x-python",
   "name": "python",
   "nbconvert_exporter": "python",
   "pygments_lexer": "ipython3",
   "version": "3.7.3"
  }
 },
 "nbformat": 4,
 "nbformat_minor": 1
}
